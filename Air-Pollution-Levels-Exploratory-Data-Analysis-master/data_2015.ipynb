{
 "cells": [
  {
   "cell_type": "code",
   "execution_count": 1,
   "metadata": {
    "collapsed": true
   },
   "outputs": [],
   "source": [
    "%run imports.ipynb"
   ]
  },
  {
   "cell_type": "code",
   "execution_count": 1,
   "metadata": {
    "collapsed": true
   },
   "outputs": [],
   "source": [
    "import pandas as pd"
   ]
  },
  {
   "cell_type": "code",
   "execution_count": 8,
   "metadata": {
    "collapsed": true
   },
   "outputs": [],
   "source": [
    "dateparse = lambda x: pd.datetime.strptime(x, '%d-%m-%y')\n",
    "\n",
    "data15 = pd.read_csv(\"cpcb_dly_aq_delhi-2015.csv\", parse_dates=['Sampling Date'], date_parser=dateparse).drop(\"Location of Monitoring Station\", axis=1).sort_values(\"Sampling Date\")    \n",
    "data15 = data15[data15[\"Type of Location\"] != \"Industrial Area\"]"
   ]
  },
  {
   "cell_type": "code",
   "execution_count": 10,
   "metadata": {
    "collapsed": true
   },
   "outputs": [],
   "source": [
    "data15[\"DateMonth\"]=data15[\"Sampling Date\"].dt.to_period(\"M\")"
   ]
  },
  {
   "cell_type": "code",
   "execution_count": 11,
   "metadata": {
    "collapsed": true
   },
   "outputs": [],
   "source": [
    "data15 = data15.groupby(\"DateMonth\").mean().drop(\"PM 2.5\", axis=1)"
   ]
  },
  {
   "cell_type": "code",
   "execution_count": 12,
   "metadata": {},
   "outputs": [
    {
     "data": {
      "text/html": [
       "<div>\n",
       "<style>\n",
       "    .dataframe thead tr:only-child th {\n",
       "        text-align: right;\n",
       "    }\n",
       "\n",
       "    .dataframe thead th {\n",
       "        text-align: left;\n",
       "    }\n",
       "\n",
       "    .dataframe tbody tr th {\n",
       "        vertical-align: top;\n",
       "    }\n",
       "</style>\n",
       "<table border=\"1\" class=\"dataframe\">\n",
       "  <thead>\n",
       "    <tr style=\"text-align: right;\">\n",
       "      <th></th>\n",
       "      <th>Stn Code</th>\n",
       "      <th>SO2</th>\n",
       "      <th>NO2</th>\n",
       "      <th>RSPM/PM10</th>\n",
       "    </tr>\n",
       "    <tr>\n",
       "      <th>DateMonth</th>\n",
       "      <th></th>\n",
       "      <th></th>\n",
       "      <th></th>\n",
       "      <th></th>\n",
       "    </tr>\n",
       "  </thead>\n",
       "  <tbody>\n",
       "    <tr>\n",
       "      <th>2015-01</th>\n",
       "      <td>166.400000</td>\n",
       "      <td>4.200000</td>\n",
       "      <td>59.485714</td>\n",
       "      <td>194.742857</td>\n",
       "    </tr>\n",
       "    <tr>\n",
       "      <th>2015-02</th>\n",
       "      <td>161.097561</td>\n",
       "      <td>4.560976</td>\n",
       "      <td>66.829268</td>\n",
       "      <td>209.487805</td>\n",
       "    </tr>\n",
       "    <tr>\n",
       "      <th>2015-03</th>\n",
       "      <td>161.195122</td>\n",
       "      <td>4.292683</td>\n",
       "      <td>68.219512</td>\n",
       "      <td>158.365854</td>\n",
       "    </tr>\n",
       "    <tr>\n",
       "      <th>2015-04</th>\n",
       "      <td>156.947368</td>\n",
       "      <td>4.868421</td>\n",
       "      <td>66.842105</td>\n",
       "      <td>205.947368</td>\n",
       "    </tr>\n",
       "    <tr>\n",
       "      <th>2015-05</th>\n",
       "      <td>169.904762</td>\n",
       "      <td>5.500000</td>\n",
       "      <td>66.761905</td>\n",
       "      <td>182.428571</td>\n",
       "    </tr>\n",
       "    <tr>\n",
       "      <th>2015-06</th>\n",
       "      <td>164.886364</td>\n",
       "      <td>5.977273</td>\n",
       "      <td>54.204545</td>\n",
       "      <td>155.613636</td>\n",
       "    </tr>\n",
       "    <tr>\n",
       "      <th>2015-07</th>\n",
       "      <td>167.348837</td>\n",
       "      <td>3.904762</td>\n",
       "      <td>44.047619</td>\n",
       "      <td>151.047619</td>\n",
       "    </tr>\n",
       "    <tr>\n",
       "      <th>2015-08</th>\n",
       "      <td>167.325581</td>\n",
       "      <td>3.348837</td>\n",
       "      <td>50.744186</td>\n",
       "      <td>138.953488</td>\n",
       "    </tr>\n",
       "    <tr>\n",
       "      <th>2015-09</th>\n",
       "      <td>158.785714</td>\n",
       "      <td>3.536585</td>\n",
       "      <td>52.682927</td>\n",
       "      <td>152.268293</td>\n",
       "    </tr>\n",
       "    <tr>\n",
       "      <th>2015-10</th>\n",
       "      <td>170.487805</td>\n",
       "      <td>6.731707</td>\n",
       "      <td>70.170732</td>\n",
       "      <td>224.682927</td>\n",
       "    </tr>\n",
       "    <tr>\n",
       "      <th>2015-11</th>\n",
       "      <td>163.725000</td>\n",
       "      <td>12.625000</td>\n",
       "      <td>89.500000</td>\n",
       "      <td>293.800000</td>\n",
       "    </tr>\n",
       "    <tr>\n",
       "      <th>2015-12</th>\n",
       "      <td>175.590909</td>\n",
       "      <td>5.418605</td>\n",
       "      <td>89.272727</td>\n",
       "      <td>320.522727</td>\n",
       "    </tr>\n",
       "  </tbody>\n",
       "</table>\n",
       "</div>"
      ],
      "text/plain": [
       "             Stn Code        SO2        NO2   RSPM/PM10\n",
       "DateMonth                                              \n",
       "2015-01    166.400000   4.200000  59.485714  194.742857\n",
       "2015-02    161.097561   4.560976  66.829268  209.487805\n",
       "2015-03    161.195122   4.292683  68.219512  158.365854\n",
       "2015-04    156.947368   4.868421  66.842105  205.947368\n",
       "2015-05    169.904762   5.500000  66.761905  182.428571\n",
       "2015-06    164.886364   5.977273  54.204545  155.613636\n",
       "2015-07    167.348837   3.904762  44.047619  151.047619\n",
       "2015-08    167.325581   3.348837  50.744186  138.953488\n",
       "2015-09    158.785714   3.536585  52.682927  152.268293\n",
       "2015-10    170.487805   6.731707  70.170732  224.682927\n",
       "2015-11    163.725000  12.625000  89.500000  293.800000\n",
       "2015-12    175.590909   5.418605  89.272727  320.522727"
      ]
     },
     "execution_count": 12,
     "metadata": {},
     "output_type": "execute_result"
    }
   ],
   "source": [
    "data15"
   ]
  },
  {
   "cell_type": "code",
   "execution_count": null,
   "metadata": {
    "collapsed": true
   },
   "outputs": [],
   "source": []
  }
 ],
 "metadata": {
  "kernelspec": {
   "display_name": "Python 3",
   "language": "python",
   "name": "python3"
  },
  "language_info": {
   "codemirror_mode": {
    "name": "ipython",
    "version": 3
   },
   "file_extension": ".py",
   "mimetype": "text/x-python",
   "name": "python",
   "nbconvert_exporter": "python",
   "pygments_lexer": "ipython3",
   "version": "3.6.8"
  }
 },
 "nbformat": 4,
 "nbformat_minor": 2
}
