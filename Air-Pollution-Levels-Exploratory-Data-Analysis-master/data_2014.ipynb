{
 "cells": [
  {
   "cell_type": "code",
   "execution_count": 22,
   "metadata": {
    "collapsed": true
   },
   "outputs": [],
   "source": [
    "%run imports.py "
   ]
  },
  {
   "cell_type": "code",
   "execution_count": null,
   "metadata": {
    "collapsed": true
   },
   "outputs": [],
   "source": [
    "import pandas as pd"
   ]
  },
  {
   "cell_type": "code",
   "execution_count": 32,
   "metadata": {
    "collapsed": true
   },
   "outputs": [],
   "source": [
    "dateparse = lambda x: pd.datetime.strptime(x, '%d-%m-%y')\n",
    "\n",
    "data14 = pd.read_csv(\"cpcb_dly_aq_delhi-2014.csv\", parse_dates=['Sampling Date'], date_parser=dateparse).drop(\"Location of Monitoring Station\", axis=1).sort_values(\"Sampling Date\")    \n",
    "data14 = data14[data14[\"Type of Location\"] != \"Industrial Area\"]"
   ]
  },
  {
   "cell_type": "code",
   "execution_count": 33,
   "metadata": {
    "collapsed": true
   },
   "outputs": [],
   "source": [
    "data14[\"DateMonth\"]=data14[\"Sampling Date\"].dt.to_period(\"M\")\n"
   ]
  },
  {
   "cell_type": "code",
   "execution_count": 34,
   "metadata": {
    "collapsed": true
   },
   "outputs": [],
   "source": [
    "data14 = data14.groupby(\"DateMonth\").mean().drop(\"PM 2.5\", axis=1)"
   ]
  },
  {
   "cell_type": "code",
   "execution_count": 35,
   "metadata": {},
   "outputs": [
    {
     "data": {
      "text/html": [
       "<div>\n",
       "<style>\n",
       "    .dataframe thead tr:only-child th {\n",
       "        text-align: right;\n",
       "    }\n",
       "\n",
       "    .dataframe thead th {\n",
       "        text-align: left;\n",
       "    }\n",
       "\n",
       "    .dataframe tbody tr th {\n",
       "        vertical-align: top;\n",
       "    }\n",
       "</style>\n",
       "<table border=\"1\" class=\"dataframe\">\n",
       "  <thead>\n",
       "    <tr style=\"text-align: right;\">\n",
       "      <th></th>\n",
       "      <th>Stn Code</th>\n",
       "      <th>SO2</th>\n",
       "      <th>NO2</th>\n",
       "      <th>RSPM/PM10</th>\n",
       "    </tr>\n",
       "    <tr>\n",
       "      <th>DateMonth</th>\n",
       "      <th></th>\n",
       "      <th></th>\n",
       "      <th></th>\n",
       "      <th></th>\n",
       "    </tr>\n",
       "  </thead>\n",
       "  <tbody>\n",
       "    <tr>\n",
       "      <th>2014-01</th>\n",
       "      <td>147.750000</td>\n",
       "      <td>6.250000</td>\n",
       "      <td>53.675000</td>\n",
       "      <td>230.825000</td>\n",
       "    </tr>\n",
       "    <tr>\n",
       "      <th>2014-02</th>\n",
       "      <td>181.853659</td>\n",
       "      <td>5.243902</td>\n",
       "      <td>58.390244</td>\n",
       "      <td>193.121951</td>\n",
       "    </tr>\n",
       "    <tr>\n",
       "      <th>2014-03</th>\n",
       "      <td>149.534884</td>\n",
       "      <td>7.302326</td>\n",
       "      <td>56.837209</td>\n",
       "      <td>158.904762</td>\n",
       "    </tr>\n",
       "    <tr>\n",
       "      <th>2014-04</th>\n",
       "      <td>155.465116</td>\n",
       "      <td>5.976744</td>\n",
       "      <td>68.093023</td>\n",
       "      <td>168.690476</td>\n",
       "    </tr>\n",
       "    <tr>\n",
       "      <th>2014-05</th>\n",
       "      <td>178.784314</td>\n",
       "      <td>4.921569</td>\n",
       "      <td>60.156863</td>\n",
       "      <td>172.540000</td>\n",
       "    </tr>\n",
       "    <tr>\n",
       "      <th>2014-06</th>\n",
       "      <td>168.277778</td>\n",
       "      <td>4.611111</td>\n",
       "      <td>51.861111</td>\n",
       "      <td>166.771429</td>\n",
       "    </tr>\n",
       "    <tr>\n",
       "      <th>2014-07</th>\n",
       "      <td>170.972973</td>\n",
       "      <td>4.594595</td>\n",
       "      <td>45.027027</td>\n",
       "      <td>148.459459</td>\n",
       "    </tr>\n",
       "    <tr>\n",
       "      <th>2014-08</th>\n",
       "      <td>163.470588</td>\n",
       "      <td>3.794118</td>\n",
       "      <td>57.647059</td>\n",
       "      <td>174.909091</td>\n",
       "    </tr>\n",
       "    <tr>\n",
       "      <th>2014-09</th>\n",
       "      <td>153.906250</td>\n",
       "      <td>4.156250</td>\n",
       "      <td>46.843750</td>\n",
       "      <td>163.833333</td>\n",
       "    </tr>\n",
       "    <tr>\n",
       "      <th>2014-10</th>\n",
       "      <td>199.675676</td>\n",
       "      <td>4.621622</td>\n",
       "      <td>49.378378</td>\n",
       "      <td>187.216216</td>\n",
       "    </tr>\n",
       "    <tr>\n",
       "      <th>2014-11</th>\n",
       "      <td>165.319149</td>\n",
       "      <td>6.042553</td>\n",
       "      <td>78.212766</td>\n",
       "      <td>259.152174</td>\n",
       "    </tr>\n",
       "    <tr>\n",
       "      <th>2014-12</th>\n",
       "      <td>142.642857</td>\n",
       "      <td>5.261905</td>\n",
       "      <td>72.857143</td>\n",
       "      <td>256.073171</td>\n",
       "    </tr>\n",
       "  </tbody>\n",
       "</table>\n",
       "</div>"
      ],
      "text/plain": [
       "             Stn Code       SO2        NO2   RSPM/PM10\n",
       "DateMonth                                             \n",
       "2014-01    147.750000  6.250000  53.675000  230.825000\n",
       "2014-02    181.853659  5.243902  58.390244  193.121951\n",
       "2014-03    149.534884  7.302326  56.837209  158.904762\n",
       "2014-04    155.465116  5.976744  68.093023  168.690476\n",
       "2014-05    178.784314  4.921569  60.156863  172.540000\n",
       "2014-06    168.277778  4.611111  51.861111  166.771429\n",
       "2014-07    170.972973  4.594595  45.027027  148.459459\n",
       "2014-08    163.470588  3.794118  57.647059  174.909091\n",
       "2014-09    153.906250  4.156250  46.843750  163.833333\n",
       "2014-10    199.675676  4.621622  49.378378  187.216216\n",
       "2014-11    165.319149  6.042553  78.212766  259.152174\n",
       "2014-12    142.642857  5.261905  72.857143  256.073171"
      ]
     },
     "execution_count": 35,
     "metadata": {},
     "output_type": "execute_result"
    }
   ],
   "source": [
    "data14"
   ]
  },
  {
   "cell_type": "code",
   "execution_count": null,
   "metadata": {
    "collapsed": true
   },
   "outputs": [],
   "source": []
  }
 ],
 "metadata": {
  "kernelspec": {
   "display_name": "Python 3",
   "language": "python",
   "name": "python3"
  },
  "language_info": {
   "codemirror_mode": {
    "name": "ipython",
    "version": 3
   },
   "file_extension": ".py",
   "mimetype": "text/x-python",
   "name": "python",
   "nbconvert_exporter": "python",
   "pygments_lexer": "ipython3",
   "version": "3.6.8"
  }
 },
 "nbformat": 4,
 "nbformat_minor": 2
}
